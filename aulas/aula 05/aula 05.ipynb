{
  "metadata": {
    "language_info": {
      "codemirror_mode": {
        "name": "python",
        "version": 3
      },
      "file_extension": ".py",
      "mimetype": "text/x-python",
      "name": "python",
      "nbconvert_exporter": "python",
      "pygments_lexer": "ipython3",
      "version": "3.8"
    },
    "kernelspec": {
      "name": "python",
      "display_name": "Python (Pyodide)",
      "language": "python"
    }
  },
  "nbformat_minor": 4,
  "nbformat": 4,
  "cells": [
    {
      "cell_type": "markdown",
      "source": "01- crie uma lista com quatro nomes quatro endereços e quatro telefones mostre a lista de formas formatada",
      "metadata": {}
    },
    {
      "cell_type": "code",
      "source": "nome=[\n    \"Gustavo\",\n    \"Ana Laura\",\n    \"Carlos\",\n    \"Maria\"\n     ]\nidade=[\n    17,20,50,50\n]\nfone=[\n    \"99490-0180\",\n    \"99172-0928\",\n    \"92011-3792\",\n    \"9832-0932\"\n]\nx = 0\nprint(\"{:<14}{:<4}{:<0}\".format(\"nome\",\"idade\",\"telefone\"))\nprint(\"-----------------------------\")\nwhile(x<=3):\n    print(\"{:<14}{:<4}{:<0}\".format(nome[x],idade[x],fone[x]))\n    x += 1",
      "metadata": {
        "trusted": true
      },
      "execution_count": 1,
      "outputs": [
        {
          "name": "stdout",
          "text": "nome          idadetelefone\n-----------------------------\nGustavo       17  99490-0180\nAna Laura     20  99172-0928\nCarlos        50  92011-3792\nMaria         50  9832-0932\n",
          "output_type": "stream"
        }
      ]
    },
    {
      "cell_type": "markdown",
      "source": "02- crie um programa que mostra tres endereços,tres numeros,tres bairros e tres cidades",
      "metadata": {}
    },
    {
      "cell_type": "code",
      "source": "enderecos=[\n    \"João Harley\",\n    \"Nazarena\",\n    \"Ezequiel lima\"\n]\nnumeros=[\n    \"500\",\n    \"123\",\n    \"50\"\n]\nbairros=[\n    \"calos alberto\",\n    \"santa rita\",\n    \"são gabriel\"\n]\ncidades=[\n    \"Rio de janeiro\",\n    \"Campinas\",\n    \"São paulo\"\n]\nprint(\"{:<15}{:<12}{:<15}{:<0}\".format(\"enderecos\",\"numeros\",\"bairros\",\"cidades\"))\nprint(\"|-------------+-----------+----------------------------|\")\nx = 0\nwhile(x<=2):\n    print(\"{:<15}{:<12}{:<15}{:<0}\".format(enderecos[x],numeros[x],bairros[x],cidades[x]))\n    x += 1\n    ",
      "metadata": {
        "trusted": true
      },
      "execution_count": 15,
      "outputs": [
        {
          "name": "stdout",
          "text": "enderecos      numeros     bairros        cidades\n|-------------+-----------+----------------------------|\nJoão Harley    500         calos alberto  Rio de janeiro\nNazarena       123         santa rita     Campinas\nEzequiel lima  50          são gabriel    São paulo\n",
          "output_type": "stream"
        }
      ]
    },
    {
      "cell_type": "code",
      "source": "",
      "metadata": {},
      "execution_count": null,
      "outputs": []
    },
    {
      "cell_type": "code",
      "source": "",
      "metadata": {},
      "execution_count": null,
      "outputs": []
    }
  ]
}